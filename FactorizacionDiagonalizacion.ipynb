{
  "nbformat": 4,
  "nbformat_minor": 0,
  "metadata": {
    "colab": {
      "name": "FactorizacionDiagonalizacion.ipynb",
      "version": "0.3.2",
      "provenance": [],
      "collapsed_sections": [],
      "include_colab_link": true
    },
    "kernelspec": {
      "name": "python2",
      "display_name": "Python 2"
    }
  },
  "cells": [
    {
      "cell_type": "markdown",
      "metadata": {
        "id": "view-in-github",
        "colab_type": "text"
      },
      "source": [
        "[View in Colaboratory](https://colab.research.google.com/github/zronyj/matematica/blob/master/FactorizacionDiagonalizacion.ipynb)"
      ]
    },
    {
      "metadata": {
        "id": "yynf_kq3VWk_",
        "colab_type": "text"
      },
      "cell_type": "markdown",
      "source": [
        "# ¡Te volvemos a dar la bienvenida a un cuaderno interactivo de Colaboratory!\n",
        "\n",
        "En esta ocasión vamos a ir directamente al grano y comenzar a trabajar con matrices de Hückel. Según la práctica de laboratorio, una matriz de Hückel se construye para moléculas con enlaces $\\pi$ en resonancia. Para ello vamos a comenzar con un ejemplo sencillo: una molécula de **benceno**.\n",
        "\n",
        "La matriz para el benceno va a tener 6 columnas y 6 filas, pues son solo 6 los átomos que cuentan con enlaces $\\pi$ en resonancia. Siguiendo con lo propuesto, la diagonal principal se debe llenar con valores $\\alpha$ que representan la energía de ionización del orbital **p**, y luego se deben de colocar $\\beta$ en aquella combinación de fila-columna en donde se encuentre un enlace.\n",
        "\n",
        "Por ejemplo, la fila 1, columna 2 representa al átomo de carbono 1 y el átomo de carbono 2 en la molécula de benceno. De estos podemos esperar que haya un enlace, por lo que colocamos un $\\beta$ en esa entrada de la matriz. Siguiendo así terminaríamos con la siguiente matriz:\n",
        "\n",
        "$$\\mathbf{H} = \\left [ \\begin{matrix}\n",
        "\\alpha & \\beta & 0 & 0 & 0 & \\beta\\\\ \n",
        "\\beta & \\alpha & \\beta & 0 & 0 & 0\\\\ \n",
        "0 & \\beta & \\alpha & \\beta & 0 & 0\\\\ \n",
        "0 & 0 & \\beta & \\alpha & \\beta & 0\\\\ \n",
        "0 & 0 & 0 & \\beta & \\alpha & \\beta\\\\ \n",
        "\\beta & 0 & 0 & 0 & \\beta & \\alpha\n",
        "\\end{matrix} \\right ]$$\n"
      ]
    },
    {
      "metadata": {
        "id": "tSC10Btfb7qC",
        "colab_type": "text"
      },
      "cell_type": "markdown",
      "source": [
        "Sin embargo, al colocar esto dentro de la ecuación de valores propios, resulta que se puede manipular más este problema para facilitar su resolución.\n",
        "\n",
        "$$\\left [ \\begin{matrix}\n",
        "\\alpha & \\beta & 0 & 0 & 0 & \\beta\\\\ \n",
        "\\beta & \\alpha & \\beta & 0 & 0 & 0\\\\ \n",
        "0 & \\beta & \\alpha & \\beta & 0 & 0\\\\ \n",
        "0 & 0 & \\beta & \\alpha & \\beta & 0\\\\ \n",
        "0 & 0 & 0 & \\beta & \\alpha & \\beta\\\\ \n",
        "\\beta & 0 & 0 & 0 & \\beta & \\alpha\n",
        "\\end{matrix} \\right ] \\cdot\n",
        "\\left [ \\begin{matrix}\n",
        "c_1\\\\ \n",
        "c_2\\\\ \n",
        "c_3\\\\ \n",
        "c_4\\\\ \n",
        "c_5\\\\ \n",
        "c_6\n",
        "\\end{matrix} \\right ] =\n",
        "\\left [ \\begin{matrix}\n",
        "E_1 & 0 & 0 & 0 & 0 & 0\\\\ \n",
        "0 & E_2 & 0 & 0 & 0 & 0\\\\ \n",
        "0 & 0 & E_3 & 0 & 0 & 0\\\\ \n",
        "0 & 0 & 0 & E_4 & 0 & 0\\\\ \n",
        "0 & 0 & 0 & 0 & E_5 & 0\\\\ \n",
        "0 & 0 & 0 & 0 & 0 & E_6\n",
        "\\end{matrix} \\right ] \\cdot\n",
        "\\left [ \\begin{matrix}\n",
        "c_1\\\\ \n",
        "c_2\\\\ \n",
        "c_3\\\\ \n",
        "c_4\\\\ \n",
        "c_5\\\\ \n",
        "c_6\n",
        "\\end{matrix} \\right ]$$"
      ]
    },
    {
      "metadata": {
        "id": "uwKnGRHjcA7N",
        "colab_type": "text"
      },
      "cell_type": "markdown",
      "source": [
        "Entonces, factorizando un poco y dividiendo entre $\\beta$, se puede tener la siguiente situación:\n",
        "\n",
        "$$\\left [ \\begin{matrix}\n",
        "\\frac{\\left ( \\alpha - E \\right )}{\\beta}& 1 & 0 & 0 & 0 & 1\\\\ \n",
        "1 & \\frac{\\left ( \\alpha - E \\right )}{\\beta} & 1 & 0 & 0 & 0\\\\ \n",
        "0 & 1 & \\frac{\\left ( \\alpha - E \\right )}{\\beta} & 1 & 0 & 0\\\\ \n",
        "0 & 0 & 1 & \\frac{\\left ( \\alpha - E \\right )}{\\beta} & 1 & 0\\\\ \n",
        "0 & 0 & 0 & 1 & \\frac{\\left ( \\alpha - E \\right )}{\\beta} & 1\\\\ \n",
        "1 & 0 & 0 & 0 & 1 & \\frac{\\left ( \\alpha - E \\right )}{\\beta}\n",
        "\\end{matrix} \\right ] \\cdot\n",
        "\\left [ \\begin{matrix}\n",
        "c_1\\\\ \n",
        "c_2\\\\ \n",
        "c_3\\\\ \n",
        "c_4\\\\ \n",
        "c_5\\\\ \n",
        "c_6\n",
        "\\end{matrix} \\right ] = 0$$"
      ]
    },
    {
      "metadata": {
        "id": "N0PRMmt9cEwc",
        "colab_type": "text"
      },
      "cell_type": "markdown",
      "source": [
        "Si definimos $x_i = \\frac{E_i - \\alpha}{\\beta}$, entonces es posible reescribir la anterior ecuación como:\n",
        "\n",
        "$$\\left [ \\begin{matrix}\n",
        "-x_1& 1 & 0 & 0 & 0 & 1\\\\ \n",
        "1 & -x_2 & 1 & 0 & 0 & 0\\\\ \n",
        "0 & 1 & -x_3 & 1 & 0 & 0\\\\ \n",
        "0 & 0 & 1 & -x_4 & 1 & 0\\\\ \n",
        "0 & 0 & 0 & 1 & -x_5 & 1\\\\ \n",
        "1 & 0 & 0 & 0 & 1 & -x_6\n",
        "\\end{matrix} \\right ] \\cdot\n",
        "\\left [ \\begin{matrix}\n",
        "c_1\\\\ \n",
        "c_2\\\\ \n",
        "c_3\\\\ \n",
        "c_4\\\\ \n",
        "c_5\\\\ \n",
        "c_6\n",
        "\\end{matrix} \\right ] = 0$$"
      ]
    },
    {
      "metadata": {
        "id": "NC5OZOHWcLph",
        "colab_type": "text"
      },
      "cell_type": "markdown",
      "source": [
        "Lo cual es simplemente el problema de valores propios del que partimos, pero con $E_i = \\alpha + x_i \\beta$.\n",
        "\n",
        "$$\\left [ \\begin{matrix}\n",
        "0 & 1 & 0 & 0 & 0 & 1\\\\ \n",
        "1 & 0 & 1 & 0 & 0 & 0\\\\ \n",
        "0 & 1 & 0 & 1 & 0 & 0\\\\ \n",
        "0 & 0 & 1 & 0 & 1 & 0\\\\ \n",
        "0 & 0 & 0 & 1 & 0 & 1\\\\ \n",
        "1 & 0 & 0 & 0 & 1 & 0\n",
        "\\end{matrix} \\right ] \\cdot\n",
        "\\left [ \\begin{matrix}\n",
        "c_1\\\\ \n",
        "c_2\\\\ \n",
        "c_3\\\\ \n",
        "c_4\\\\ \n",
        "c_5\\\\ \n",
        "c_6\n",
        "\\end{matrix} \\right ] =\n",
        "x_i \\cdot\n",
        "\\left [ \\begin{matrix}\n",
        "c_1\\\\ \n",
        "c_2\\\\ \n",
        "c_3\\\\ \n",
        "c_4\\\\ \n",
        "c_5\\\\ \n",
        "c_6\n",
        "\\end{matrix} \\right ]$$"
      ]
    },
    {
      "metadata": {
        "id": "gAu2_Sy8dCb4",
        "colab_type": "text"
      },
      "cell_type": "markdown",
      "source": [
        "Ahora vamos a proceder a resolver el problema de valores propios, y así encontrar los valores de energía del sistema. Lo primero que vamos a intentar será descomponer la matriz $\\mathbf{H}$ en matrices $Q$ y $R$."
      ]
    },
    {
      "metadata": {
        "id": "2R9UdVNHVLFA",
        "colab_type": "code",
        "colab": {}
      },
      "cell_type": "code",
      "source": [
        "# Ejecuta esta celda sin realizar cambios en ella\n",
        "import numpy as np\n",
        "import numpy.linalg as LA\n",
        "import matplotlib.pyplot as plt\n",
        "import matplotlib.cm as cm\n",
        "np.set_printoptions(suppress=True)"
      ],
      "execution_count": 0,
      "outputs": []
    },
    {
      "metadata": {
        "id": "uxciXMqadrMY",
        "colab_type": "code",
        "colab": {}
      },
      "cell_type": "code",
      "source": [
        "# Creamos la matriz H de la molecula de benceno\n",
        "benceno = np.array([[0,1,0,0,0,1],\n",
        "                    [1,0,1,0,0,0],\n",
        "                    [0,1,0,1,0,0],\n",
        "                    [0,0,1,0,1,0],\n",
        "                    [0,0,0,1,0,1],\n",
        "                    [1,0,0,0,1,0]])"
      ],
      "execution_count": 0,
      "outputs": []
    },
    {
      "metadata": {
        "id": "MbvS4sageXLl",
        "colab_type": "code",
        "colab": {
          "base_uri": "https://localhost:8080/",
          "height": 119
        },
        "outputId": "b74a26c6-670f-45b4-d63f-491e0c6675fd"
      },
      "cell_type": "code",
      "source": [
        "# Calculamos las matrices Q y R a partir de la matriz de Huckel del benceno\n",
        "q, r = LA.qr(benceno)\n",
        "np.around(q, decimals=4)"
      ],
      "execution_count": 28,
      "outputs": [
        {
          "output_type": "execute_result",
          "data": {
            "text/plain": [
              "array([[ 0.    ,  0.7071,  0.    , -0.4082,  0.    , -0.5774],\n",
              "       [-0.7071, -0.    , -0.4082,  0.    ,  0.5774,  0.    ],\n",
              "       [-0.    ,  0.7071, -0.    ,  0.4082,  0.    ,  0.5774],\n",
              "       [-0.    ,  0.    , -0.8165,  0.    , -0.5774, -0.    ],\n",
              "       [-0.    ,  0.    ,  0.    ,  0.8165,  0.    , -0.5774],\n",
              "       [-0.7071, -0.    ,  0.4082,  0.    , -0.5774,  0.    ]])"
            ]
          },
          "metadata": {
            "tags": []
          },
          "execution_count": 28
        }
      ]
    },
    {
      "metadata": {
        "id": "WyBjJdJUetyS",
        "colab_type": "code",
        "colab": {
          "base_uri": "https://localhost:8080/",
          "height": 119
        },
        "outputId": "d37f02d6-4566-4813-da14-e84988ac8ff7"
      },
      "cell_type": "code",
      "source": [
        "np.around(r, decimals=4)"
      ],
      "execution_count": 29,
      "outputs": [
        {
          "output_type": "execute_result",
          "data": {
            "text/plain": [
              "array([[-1.4142,  0.    , -0.7071,  0.    , -0.7071,  0.    ],\n",
              "       [ 0.    ,  1.4142, -0.    ,  0.7071, -0.    ,  0.7071],\n",
              "       [ 0.    ,  0.    , -1.2247,  0.    , -0.4082,  0.    ],\n",
              "       [ 0.    ,  0.    ,  0.    ,  1.2247,  0.    ,  0.4082],\n",
              "       [ 0.    ,  0.    ,  0.    ,  0.    , -1.1547,  0.    ],\n",
              "       [ 0.    ,  0.    ,  0.    ,  0.    ,  0.    , -1.1547]])"
            ]
          },
          "metadata": {
            "tags": []
          },
          "execution_count": 29
        }
      ]
    },
    {
      "metadata": {
        "id": "XEN-IeIaiJ70",
        "colab_type": "text"
      },
      "cell_type": "markdown",
      "source": [
        "En este punto es probable que surja la pregunta: ¿Y para qué me sirve poder realizar la descomposición QR? Pues esta es la parte más interesante de todo lo que se hará hoy. Hasta ahora, solo sabíamos calcular los valores y vectores propios de una matriz mediante su polinomio característico. Sin embargo, hace unos momentos vimos cómo es que diagonalizar una matriz lleva al mismo resultado. Entonces, recordando en principio cómo se diagonaliza una matriz $A$ (se busca una matriz $P$ tal que $P^{-1} A P = D$ ) y recordando cómo se halla la matriz $R$ en una descomposición QR ($R = Q^{-1} A$), vamos a realizar el siguiente análisis:\n",
        "\n",
        "$$A = QR$$\n",
        "\n",
        "$$R Q = Q^{-1} A Q = A'$$\n",
        "\n",
        "Entonces, ¡multiplicar $R$ por $Q$ es equivalente a diagonalizar $A$! El problema es que esto no sucede inmediatamente. $A'$ se aproxima a la forma diagonalizada de $A$, pero no es la matriz diagonal. ¿Entonces qué? Pues repetimos este procedimiento. Esto se repite tantas veces como sea necesario hasta que los valores de $Q$ y de $R$ ya no cambien."
      ]
    },
    {
      "metadata": {
        "id": "ptkKwuzhfJM3",
        "colab_type": "code",
        "colab": {
          "base_uri": "https://localhost:8080/",
          "height": 119
        },
        "outputId": "1cd38f76-9546-4801-91bd-83b42346cab6"
      },
      "cell_type": "code",
      "source": [
        "# Primero vamos a volver a la matriz H del benceno; a la larga es Q por R\n",
        "b = np.dot(q,r)\n",
        "np.around(b, decimals=4)"
      ],
      "execution_count": 30,
      "outputs": [
        {
          "output_type": "execute_result",
          "data": {
            "text/plain": [
              "array([[ 0.,  1., -0.,  0., -0.,  1.],\n",
              "       [ 1., -0.,  1., -0., -0., -0.],\n",
              "       [ 0.,  1., -0.,  1., -0.,  0.],\n",
              "       [ 0.,  0.,  1.,  0.,  1.,  0.],\n",
              "       [ 0.,  0.,  0.,  1., -0.,  1.],\n",
              "       [ 1., -0., -0.,  0.,  1., -0.]])"
            ]
          },
          "metadata": {
            "tags": []
          },
          "execution_count": 30
        }
      ]
    },
    {
      "metadata": {
        "id": "WKQa9R2egNOI",
        "colab_type": "code",
        "colab": {}
      },
      "cell_type": "code",
      "source": [
        "# Ahora vamos a repetir el proceso de factorizar la matriz\n",
        "# y generar una nueva matriz 200 veces\n",
        "for i in xrange(200):\n",
        "  q, r = LA.qr(b)\n",
        "  b = np.dot(np.dot(np.transpose(q),b), q)"
      ],
      "execution_count": 0,
      "outputs": []
    },
    {
      "metadata": {
        "id": "5t_KCzIggN9T",
        "colab_type": "code",
        "colab": {}
      },
      "cell_type": "code",
      "source": [
        "# Finalmente vamos a volver a hallar las matrices Q y R\n",
        "q, r = LA.qr(b)"
      ],
      "execution_count": 0,
      "outputs": []
    },
    {
      "metadata": {
        "id": "K3CisMeshpdI",
        "colab_type": "code",
        "colab": {
          "base_uri": "https://localhost:8080/",
          "height": 119
        },
        "outputId": "71e62b54-6788-456f-ec99-e326e69fb632"
      },
      "cell_type": "code",
      "source": [
        "# Y es la matriz R la contiene los valores propios en la diagonal principal\n",
        "np.around(r, decimals=4)"
      ],
      "execution_count": 33,
      "outputs": [
        {
          "output_type": "execute_result",
          "data": {
            "text/plain": [
              "array([[ 2., -0., -0., -0.,  0.,  0.],\n",
              "       [ 0., -2.,  0.,  0.,  0.,  0.],\n",
              "       [ 0.,  0.,  1., -0., -0.,  0.],\n",
              "       [ 0.,  0.,  0., -1.,  0., -0.],\n",
              "       [ 0.,  0.,  0.,  0.,  1.,  0.],\n",
              "       [ 0.,  0.,  0.,  0.,  0.,  1.]])"
            ]
          },
          "metadata": {
            "tags": []
          },
          "execution_count": 33
        }
      ]
    },
    {
      "metadata": {
        "id": "z4z3Lg26oUF_",
        "colab_type": "text"
      },
      "cell_type": "markdown",
      "source": [
        "A este punto vale la pena decir que los valores propios de $\\mathbf{H}$ son `[-2, -1, -1, 1, 1, 2]`. Entonces, ¿existe algún error? Lo que sucede es que nuestros ordenadores están trabajando con pocos decimales relativamente y este problema requiere mucho mayor precisión. Por la misma razón, se han tenido que buscar alternativas para este tipo de problemas. Sin embargo, vale la pena resaltar que nuestros ordenadores **sí** utilizan el algoritmo QR para este tipo de problemas, solo que este cuenta con otro par de modificaciones para evitar estos errores. A continuación se presenta la manera en que lo hace NumPy."
      ]
    },
    {
      "metadata": {
        "id": "ePnEDGxNnrUD",
        "colab_type": "code",
        "colab": {
          "base_uri": "https://localhost:8080/",
          "height": 34
        },
        "outputId": "3e604bcb-d613-4820-b8a1-e94a76ebe45e"
      },
      "cell_type": "code",
      "source": [
        "# Calculamos los valores y vectores propios de la matriz H en una linea\n",
        "w, v = LA.eigh(benceno)\n",
        "\n",
        "# Luego mostramos los valores propios\n",
        "np.around(w, decimals=4)"
      ],
      "execution_count": 258,
      "outputs": [
        {
          "output_type": "execute_result",
          "data": {
            "text/plain": [
              "array([-2., -1., -1.,  1.,  1.,  2.])"
            ]
          },
          "metadata": {
            "tags": []
          },
          "execution_count": 258
        }
      ]
    },
    {
      "metadata": {
        "id": "N6ZFQO1wooDW",
        "colab_type": "code",
        "colab": {
          "base_uri": "https://localhost:8080/",
          "height": 119
        },
        "outputId": "d6cc1596-b22a-4b9f-cfd8-9eb26ba2a2c5"
      },
      "cell_type": "code",
      "source": [
        "# Y finalmente, observamos los vectores propios\n",
        "np.around(v, decimals=4)"
      ],
      "execution_count": 259,
      "outputs": [
        {
          "output_type": "execute_result",
          "data": {
            "text/plain": [
              "array([[-0.4082,  0.0226,  0.5769,  0.    , -0.5774,  0.4082],\n",
              "       [ 0.4082, -0.5109, -0.2689, -0.5   , -0.2887,  0.4082],\n",
              "       [-0.4082,  0.4883, -0.308 , -0.5   ,  0.2887,  0.4082],\n",
              "       [ 0.4082,  0.0226,  0.5769,  0.    ,  0.5774,  0.4082],\n",
              "       [-0.4082, -0.5109, -0.2689,  0.5   ,  0.2887,  0.4082],\n",
              "       [ 0.4082,  0.4883, -0.308 ,  0.5   , -0.2887,  0.4082]])"
            ]
          },
          "metadata": {
            "tags": []
          },
          "execution_count": 259
        }
      ]
    },
    {
      "metadata": {
        "id": "vLi5DAHuqo3Y",
        "colab_type": "code",
        "colab": {}
      },
      "cell_type": "code",
      "source": [
        "# Ejecuta esta celda sin hacer cambios en ella\n",
        "# Funcion de onda para orbital 2p de un atomo de carbono\n",
        "def Psi(x, y, z, x0, y0, z0):\n",
        "  r = ((x - x0)**2 + (y - y0)**2 + (z - z0)**2)**0.5\n",
        "  A = (3.25**5 / (32*np.pi))**0.5\n",
        "  ex = -3.25 * r / 2\n",
        "  return A * (z - z0) * np.e**ex\n",
        "  "
      ],
      "execution_count": 0,
      "outputs": []
    },
    {
      "metadata": {
        "id": "2_eJZB-uwtIN",
        "colab_type": "code",
        "colab": {}
      },
      "cell_type": "code",
      "source": [
        "# Ejecuta esta celda sin hacer cambios en ella\n",
        "# Funcion para graficar los orbitales\n",
        "def orbital2D(coords, constantes, z=1, orbital=0, delta=0.05):\n",
        "  if len(coords) != len(constantes):\n",
        "    raise ValueError, \"\"\"El numero de coordenadas no coincide\n",
        "    con el numero de constantes\"\"\"\n",
        "  n = len(coords)\n",
        "  lx = min([c[0] for c in coords])\n",
        "  ux = max([c[0] for c in coords])\n",
        "  ly = min([c[1] for c in coords])\n",
        "  uy = max([c[1] for c in coords])\n",
        "  domx = np.arange(lx - 2, ux + 2 + delta, delta)\n",
        "  domy = np.arange(ly - 2, uy + 2 + delta, delta)\n",
        "  densmap = [[0]*len(domx)]*len(domy)\n",
        "  for iy in range(len(domy)):\n",
        "    for ix in range(len(domx)):\n",
        "      densmap[iy][ix] = 0\n",
        "      for i in range(n):\n",
        "        p = Psi(domx[ix], domy[iy], z, coords[i][0], coords[i][1], coords[i][2])\n",
        "        densmap[iy][ix] += ( constantes[i][n-orbital-1] * p )\n",
        "    densmap[iy] = tuple(densmap[iy])\n",
        "  dm = np.array(densmap, dtype=np.float32)\n",
        "  plt.imshow(dm, cmap=cm.viridis)\n",
        "  plt.grid(False)\n",
        "  plt.axis('equal')\n",
        "  plt.axis('off')\n",
        "  plt.show()\n",
        "      "
      ],
      "execution_count": 0,
      "outputs": []
    },
    {
      "metadata": {
        "id": "CCDVk-8jxFh0",
        "colab_type": "code",
        "colab": {}
      },
      "cell_type": "code",
      "source": [
        "# Ahora vamos a necesitar las coordenadas de los atomos de carbono en el benceno\n",
        "benceno_coords = [[2.6,0,0], [1.3,2.2517,0],[-1.3,2.2517,0],\n",
        "                  [-2.6,0,0],[-1.3,-2.2517,0],[1.3,-2.2517,0]]"
      ],
      "execution_count": 0,
      "outputs": []
    },
    {
      "metadata": {
        "id": "qDpP0ddIzuUd",
        "colab_type": "code",
        "colab": {
          "base_uri": "https://localhost:8080/",
          "height": 350
        },
        "outputId": "d9bef2e6-047e-41af-c29c-68accae6923d"
      },
      "cell_type": "code",
      "source": [
        "# Finalmente, graficamos los orbitales pi del benceno\n",
        "# Para cambiar el orbital, cambia el numero aqui abajo y corre otra vez la celda\n",
        "# En el benceno hallamos 6 niveles de energia\n",
        "# Entonces hay orbitales del 0 al 5\n",
        "orbital2D(benceno_coords, v, orbital=0)"
      ],
      "execution_count": 319,
      "outputs": [
        {
          "output_type": "display_data",
          "data": {
            "image/png": "[encoded data removed]",
            "text/plain": [
              "<matplotlib.figure.Figure at 0x7ff6cad97990>"
            ]
          },
          "metadata": {
            "tags": []
          }
        }
      ]
    },
    {
      "metadata": {
        "id": "ZADHF0R3_Jte",
        "colab_type": "text"
      },
      "cell_type": "markdown",
      "source": [
        "Este momento es para detenerse y reflexionar: ¿Qué acabamos de hacer? Con una simple **función** y un poco de **álgebra de matrices** acabamos de encontrar la ubicación de los electrones que se hallan en resonancia en el benceno. No solo eso, ¡hallamos cómo se comportan a diferentes niveles de energía! Es importante recordar que solo estamos hablando de los electrones en los orbitales $\\pi$. Sin embargo, esto ya complementa la intuición química sobre el comportamiento de los electrones en moléculas con resonancia.\n",
        "\n",
        "Otras observaciones que quizá vale la pena mencionar, a pesar de que no son tema de esta práctica directamente son las siguientes:\n",
        "1. Aquellos orbitales que tienen la misma energía (i.e. el mismo valor propio) son llamados *degenerados*\n",
        "2. Los orbitales negativos de mayor energía son llamados **orbitales moleculares ocupados de más energía**, u **HOMO** por sus siglas en inglés.\n",
        "3. Los orbitales positivos de menor energía son llamados **orbitales moleculares desocupados de menor energía**, u **LUMO** por sus siglas en inglés.\n",
        "4. Es conveniente poner atención a las simetrías que se presentan entre los orbitales degenerados. Los planos de simetría suelen ser peculiares cuando se trata de este tipo de orbital.\n",
        "\n",
        "---\n",
        "\n",
        "Ahora que ya hemos visto cómo hacer esto para el benceno, vamos a repetir el mismo ejercicio con el naftaleno, el estireno, el azuleno o el coroneno. **¡Solo es necesario hacer uno!**\n",
        "\n",
        "El procedimiento se desarrollará de la siguiente manera:\n",
        "* Crear la matriz de Hückel de 0s y 1s\n",
        "* Factorizar la matriz en Q y R\n",
        "* Encontrar los valores propios utilizando el algoritmo QR\n",
        "* Encontrar los valores y vectores propios utilizando la función de NumPy: `LA.eigh()`\n",
        "* Graficar los orbitales utilizando la función `orbital2D()`\n",
        "* Guardar el cuaderno interactivo e imprimir un PDF del mismo"
      ]
    },
    {
      "metadata": {
        "id": "nc4qTTA7JRBQ",
        "colab_type": "text"
      },
      "cell_type": "markdown",
      "source": [
        "|Azuleno|Coroneno|Estireno|Naftaleno\n",
        "|---|---|---|---|\n",
        "|![Azuleno](https://github.com/zronyj/matematica/blob/master/azuleno.png?raw=true)|![Coroneno](https://github.com/zronyj/matematica/blob/master/coroneno.png?raw=true)|![Estireno](https://github.com/zronyj/matematica/blob/master/estireno.png?raw=true.png)|![Naftaleno](https://github.com/zronyj/matematica/blob/master/naftaleno.png?raw=true)|"
      ]
    },
    {
      "metadata": {
        "id": "hCLBo5e40AQy",
        "colab_type": "code",
        "colab": {}
      },
      "cell_type": "code",
      "source": [
        "# Coordenadas para las moleculas\n",
        "azuleno_coords = [[-1.21800105,-3.02633781,0],[-0.0819981,-3.97084248,0],\n",
        "                  [1.21800105,-3.02633781,0],[0.72144557,-1.49809715,0],\n",
        "                  [-0.72144557,-1.49809715,0],[-1.62107347,-0.37,0],\n",
        "                  [-1.3,1.0367154,0],[0,1.6627624,0],\n",
        "                  [1.3,1.0367154,0],[1.62107347,-0.37,0]]\n",
        "coroneno_coords = [[0,2.6,0],[-2.2517,1.3,0],[-2.2517,-1.3,0],\n",
        "                   [0,-2.6,0],[2.2517,-1.3,0],[2.2517,1.3,0],\n",
        "                   [-4.5033,2.6,0],[-6.7551,1.3,0],[-6.7551,-1.3,0],\n",
        "                   [-4.5033,-2.6,0],[4.5033,2.6,0],[4.5033,-2.6,0],\n",
        "                   [6.7551,-1.3,0],[6.7551,1.3,0],[2.2517,6.5,0],\n",
        "                   [0,5.2,0],[4.5033,5.2,0],[-2.2517,6.5,0],\n",
        "                   [-4.5033,5.2,0],[-4.5033,-5.2,0],[-2.2517,-6.5,0],\n",
        "                   [0,-5.2,0],[2.2517,-6.5,0],[4.5033,-5.2,0]]\n",
        "estireno_coords = [[-2.2517,2.6,0],[-4.5033,1.3,0],[-4.5033,-1.3,0],\n",
        "                   [-2.2517,-2.6,0],[0,-1.3,0],[0,1.3,0],\n",
        "                   [2.2517,2.6,0],[4.5033,1.3,0]]\n",
        "naftaleno_coords = [[-2.2517,2.6,0],[-4.5033,1.3,0],[-4.5033,-1.3,0],\n",
        "                    [-2.2517,-2.6,0],[0,-1.3,0],[0,1.3,0],\n",
        "                    [2.2517,2.6,0],[2.2517,-2.6,0],[4.5033,-1.3,0],\n",
        "                    [4.5033,1.3,0]]"
      ],
      "execution_count": 0,
      "outputs": []
    },
    {
      "metadata": {
        "id": "wV5VMzpddLpH",
        "colab_type": "code",
        "colab": {}
      },
      "cell_type": "code",
      "source": [
        ""
      ],
      "execution_count": 0,
      "outputs": []
    }
  ]
}